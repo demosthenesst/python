{
 "cells": [
  {
   "cell_type": "markdown",
   "id": "799c9fde-a173-4364-8c87-59dc4cf17c84",
   "metadata": {},
   "source": [
    "\n",
    "# Πείραμα τύχης: ρίψη ζεύγους ζαριών\n",
    "\n",
    "Στην εφαρμογή αυτή προσομοιώνεται η ρίψη ζεύγους ζαριών, με πλήθος διαδοχικών ρίψεων που καθορίζεται από τον χρήστη.\n",
    "\n",
    "- Καταγράφονται τα αποτελέσματα εμφάνισης των ένδείξεων του ζεύγους των ζαριών και υπολογίζεται η αντίστοιχη στατιστική πιθανότητα. Σκοπός της προσομοίωσης είναι η παρατήρηση της σύγκλισης της στατιστικής πιθανότητας στη θεωρητική τιμή $\\dfrac{1}{18}\\approx 5,555\\%$ για ρίψη με διαφορετικές ενδείξεις και $\\dfrac{1}{36}\\approx2,777\\%$ για ρίψη \"διπλών\".\n",
    "- Ο χρήστης έχει τη δυνατότητα να επιλέξει την εμφάνιση όλων των αποτελεσμάτων των ρίψεων."
   ]
  },
  {
   "cell_type": "code",
   "execution_count": null,
   "id": "f45a3234-cc05-4638-b17e-f1fd084ff5bb",
   "metadata": {
    "jupyter": {
     "source_hidden": true
    }
   },
   "outputs": [],
   "source": [
    "\n",
    "from IPython.display import display, Math, clear_output\n",
    "import random\n",
    "\n",
    "def representsInteger(s):\n",
    "    try: \n",
    "        int(s)\n",
    "    except ValueError:\n",
    "        return False\n",
    "    else:\n",
    "        return True\n",
    "\n",
    "########################################################\n",
    "\n",
    "print()\n",
    "numberOfRolls = input('Εισάγετε πλήθος ρίψεων:\\n')\n",
    "\n",
    "while not representsInteger(numberOfRolls) or int(numberOfRolls) <= 0:\n",
    "    clear_output()\n",
    "    print('Η απάντηση πρέπει να είναι θετικός ακέραιος αριθμός.\\n')\n",
    "    numberOfRolls = input('Εισάγετε πλήθος ρίψεων:\\n')\n",
    "else:\n",
    "    numberOfRolls=int(numberOfRolls)\n",
    "\n",
    "outcomes = [{x,y} for x in range(1,7) for y in range(1,7)]\n",
    "\n",
    "rollList=random.choices(outcomes, k=numberOfRolls)\n",
    "\n",
    "rollDataSingles0=[[x, rollList.count(x)] for x in outcomes if len(x)==2]\n",
    "rollDataDoubles=[[x, rollList.count(x)] for x in outcomes if len(x)==1] #with duplicates\n",
    "\n",
    "rollDataSingles = []\n",
    "[rollDataSingles.append(x) for x in rollDataSingles0 if x not in rollDataSingles]\n",
    "\n",
    "clear_output()\n",
    "print('\\n\\u2022 Πλήθος ρίψεων: %s' %str(numberOfRolls))\n",
    "print('\\n\\u2022 Αποτελέσματα \"διπλών\"')\n",
    "print('______________________\\n')\n",
    "for y in rollDataDoubles:\n",
    "    set = y[0]\n",
    "    freq = y[1]\n",
    "    el = str(set).replace('{', '').replace('}', '')\n",
    "    print( \n",
    "          'Συχνότητα εμφάνισης ένδειξης {%s, %s}: %g\\t\\tΠιθανότητα εμφάνισης: %s/%s = %g%%' \n",
    "          %(el, el, freq, str(freq), str(numberOfRolls), round(100*(freq/numberOfRolls),3))        \n",
    "    )\n",
    "    \n",
    "print('\\n\\u2022 Αποτελέσματα υπόλοιπων ρίψεων')\n",
    "print('_______________________________\\n')\n",
    "for y in rollDataSingles:\n",
    "    set = y[0]\n",
    "    freq = y[1]\n",
    "    el = str(set)\n",
    "    print(\n",
    "        'Συχνότητα εμφάνισης ένδειξης %s: %g\\t\\tΠιθανότητα εμφάνισης: %s/%s = %g%%' \n",
    "          %(el, freq, str(freq), str(numberOfRolls), round(100*(freq/numberOfRolls),3))        \n",
    "    )\n",
    "\n",
    "displayResults = input(\"\\nΕπιθυμείτε εμφάνιση αποτελεσμάτων των μεμονωμένων ρίψεων; (Ν/Ο)\\n\")\n",
    "\n",
    "if displayResults in ['Ν', 'ν', 'N', 'n']:\n",
    "    print('\\n\\u2022 Αποτελέσματα ρίψεων:')\n",
    "    print('______________________\\n')\n",
    "    print(*rollList, sep = ' ')"
   ]
  }
 ],
 "metadata": {
  "kernelspec": {
   "display_name": "Python 3 (ipykernel)",
   "language": "python",
   "name": "python3"
  },
  "language_info": {
   "codemirror_mode": {
    "name": "ipython",
    "version": 3
   },
   "file_extension": ".py",
   "mimetype": "text/x-python",
   "name": "python",
   "nbconvert_exporter": "python",
   "pygments_lexer": "ipython3",
   "version": "3.9.18"
  }
 },
 "nbformat": 4,
 "nbformat_minor": 5
}
