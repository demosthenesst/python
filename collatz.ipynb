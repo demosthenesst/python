{
 "cells": [
  {
   "cell_type": "markdown",
   "id": "43cf0479-6cb6-416e-a7c8-935f87ca5967",
   "metadata": {},
   "source": [
    "\n",
    "# Η εικασία του Collatz\n",
    "\n",
    "$$C(n)=\\begin{cases}\n",
    "    \\dfrac{n}{2}, & n \\text{ άρτιος}\\\\[1ex]\n",
    "    \\dfrac{3n+1}{2}, & n \\text{ περιττός}\\end{cases}$$"
   ]
  },
  {
   "cell_type": "code",
   "execution_count": 85,
   "id": "eb3d48e3-f6a7-4d3a-9b20-5c20c5b67363",
   "metadata": {},
   "outputs": [
    {
     "data": {
      "text/latex": [
       "$\\displaystyle 123\\rightarrow185\\rightarrow278\\rightarrow139\\rightarrow209\\rightarrow314\\rightarrow157\\rightarrow236\\rightarrow118\\rightarrow59\\rightarrow$"
      ],
      "text/plain": [
       "<IPython.core.display.Math object>"
      ]
     },
     "metadata": {},
     "output_type": "display_data"
    },
    {
     "data": {
      "text/latex": [
       "$\\displaystyle 134\\rightarrow67\\rightarrow101\\rightarrow152\\rightarrow76\\rightarrow38\\rightarrow19\\rightarrow29\\rightarrow44\\rightarrow22\\rightarrow$"
      ],
      "text/plain": [
       "<IPython.core.display.Math object>"
      ]
     },
     "metadata": {},
     "output_type": "display_data"
    },
    {
     "data": {
      "text/latex": [
       "$\\displaystyle 17\\rightarrow26\\rightarrow13\\rightarrow20\\rightarrow10\\rightarrow5\\rightarrow8\\rightarrow4\\rightarrow2\\rightarrow1$"
      ],
      "text/plain": [
       "<IPython.core.display.Math object>"
      ]
     },
     "metadata": {},
     "output_type": "display_data"
    },
    {
     "name": "stdout",
     "output_type": "stream",
     "text": [
      "\n",
      "Μήκος Αλυσίδας:\n"
     ]
    },
    {
     "data": {
      "text/latex": [
       "$\\displaystyle 32$"
      ],
      "text/plain": [
       "<IPython.core.display.Math object>"
      ]
     },
     "metadata": {},
     "output_type": "display_data"
    }
   ],
   "source": [
    "\n",
    "from IPython.display import display, Math, clear_output\n",
    "from sympy import *\n",
    "from sympy.abc import x\n",
    "import random\n",
    "import numpy\n",
    "from time import sleep\n",
    "\n",
    "def collatz(n):\n",
    "    if n%2==0:\n",
    "        return int(n/2)\n",
    "    else:\n",
    "        return int((3*n+1)/2)\n",
    "\n",
    "\n",
    "print('\\nΕισάγετε θετικό ακέραιο:')\n",
    "while True:\n",
    "    N = input('')\n",
    "    try:\n",
    "        int(N)\n",
    "    except:\n",
    "        print('\\nΜη έγκυρη εισαγωγή.')\n",
    "        print('Εισάγετε θετικό ακέραιο:')\n",
    "        #N = input('')\n",
    "    else:\n",
    "        if int(N)<=0:\n",
    "            print('\\nΕισάγετε θ ε τ ι κ ό ακέραιο:')\n",
    "        else:\n",
    "            N=int(N)\n",
    "            clear_output()\n",
    "            break\n",
    "\n",
    "\n",
    "collatzChain=[]\n",
    "\n",
    "chainLength = 0\n",
    "\n",
    "collatzString=''\n",
    "collatzStringArray=[]\n",
    "\n",
    "\n",
    "while True:\n",
    "    chainLength=chainLength+1\n",
    "    collatzChain.append(N)\n",
    "    collatzStringArray.append(str(N))\n",
    "    #collatzString = collatzString+str(N)+', '\n",
    "    \n",
    "    if N == 1:\n",
    "        collatzString = collatzString + str(N)\n",
    "    elif chainLength%11 == 0:\n",
    "        display(Math(collatzString))\n",
    "        #display(Math(latex(collatzString)))\n",
    "        collatzString=''\n",
    "    else:\n",
    "        collatzString = collatzString+str(N)+'\\\\rightarrow'\n",
    "    \n",
    "    if N == 1:\n",
    "        #display(Math(latex(collatzString)))\n",
    "        display(Math(collatzString))\n",
    "        #print(collatzString)\n",
    "        break\n",
    "    N = collatz(N)\n",
    "    \n",
    " \n",
    "print('\\nΜήκος Αλυσίδας:')\n",
    "display(Math(latex(chainLength)))\n",
    "\n",
    "#print(*collatzChain, sep = ' ')\n",
    "\n",
    "# print(collatzString)\n",
    "# collatzString\n"
   ]
  },
  {
   "cell_type": "code",
   "execution_count": null,
   "id": "4f8dc1ca-4b1f-4da5-98d1-8641a3295735",
   "metadata": {},
   "outputs": [],
   "source": []
  }
 ],
 "metadata": {
  "kernelspec": {
   "display_name": "Python 3 (ipykernel)",
   "language": "python",
   "name": "python3"
  },
  "language_info": {
   "codemirror_mode": {
    "name": "ipython",
    "version": 3
   },
   "file_extension": ".py",
   "mimetype": "text/x-python",
   "name": "python",
   "nbconvert_exporter": "python",
   "pygments_lexer": "ipython3",
   "version": "3.9.18"
  }
 },
 "nbformat": 4,
 "nbformat_minor": 5
}
