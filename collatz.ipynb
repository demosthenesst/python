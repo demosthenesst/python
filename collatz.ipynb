{
 "cells": [
  {
   "cell_type": "markdown",
   "id": "43cf0479-6cb6-416e-a7c8-935f87ca5967",
   "metadata": {},
   "source": [
    "\n",
    "# Η εικασία του Collatz\n",
    "\n",
    "Στην εφαρμογή αυτή πειραματιζόμαστε με την [**εικασία του Collatz**](https://en.wikipedia.org/wiki/Collatz_conjecture). Η διατύπωσή της οφείλεται στον Γερμανό μαθηματικό [**Lothar Collatz**](https://en.wikipedia.org/wiki/Lothar_Collatz) (1910-1990) και έχει ως εξής.\n",
    "\n",
    "Για οποιονδήποτε θετικό ακέραιο $n$, με επαναλαμβανόμενη εφαρμογή της συνάρτησης\n",
    "\n",
    "$$C(n)=\\begin{cases}\n",
    "    \\dfrac{n}{2}, & n \\text{ άρτιος}\\\\[1ex]\n",
    "    \\dfrac{3n+1}{2}, & n \\text{ περιττός}\n",
    "    \\end{cases}$$\n",
    "\n",
    "οδηγούμαστε πάντοτε στον αριθμό $1$. Παραδείγματος χάριν, για $n=13$:\n",
    "\n",
    "$$\\begin{array}{r|l}\n",
    "    \\textbf{Ακολουθία Collatz} & \\textbf{Πράξεις}\\\\[1ex] \\hline\n",
    " 13 \\text{ (περιττός)} & C(13)=\\dfrac{3\\cdot 13 + 1}{2}=\\dfrac{40}{2}=20\\\\[1ex]\n",
    " 20 \\text{ (άρτιος)} & C(20)=\\dfrac{20}{2}=10\\\\[1ex]\n",
    " 10 \\text{ (άρτιος)} & C(10)=\\dfrac{10}{2}=5\\\\[1ex]\n",
    " 5 \\text{ (περιττός)} & C(5)=\\dfrac{3\\cdot 5 + 1}{2}=\\dfrac{16}{2}=8\\\\[1ex]\n",
    " 8 \\text{ (άρτιος)} & C(8)=\\dfrac{8}{2}=4\\\\[1ex]\n",
    " 4 \\text{ (άρτιος)} & C(4)=\\dfrac{4}{2}=2\\\\[1ex]\n",
    " 2 \\text{ (άρτιος)} & C(2)=\\dfrac{2}{2}=1\\\\[1ex]\n",
    " 1  &  \\\\\n",
    "\\end{array}$$\n",
    "\n",
    "Χρησιμοποιείται η λέξη \"εικασία\" διότι η παραπάνω πρόταση δεν έχει, μέχρι στιγμής, αποδειχθεί. Έχει ελεγχθεί όμως για τεράστιο πλήθος αριθμών, που ξεπερνά το $2^{70}$ (2020)."
   ]
  },
  {
   "cell_type": "code",
   "execution_count": null,
   "id": "eb3d48e3-f6a7-4d3a-9b20-5c20c5b67363",
   "metadata": {
    "jupyter": {
     "source_hidden": true
    }
   },
   "outputs": [],
   "source": [
    "\n",
    "from IPython.display import display, Math, clear_output\n",
    "from sympy import *\n",
    "from sympy.abc import x\n",
    "import random\n",
    "import numpy\n",
    "from time import sleep\n",
    "\n",
    "def collatz(n):\n",
    "    if n%2==0:\n",
    "        return int(n/2)\n",
    "    else:\n",
    "        return int((3*n+1)/2)\n",
    "\n",
    "print('\\nΕισάγετε θετικό ακέραιο:')\n",
    "while True:\n",
    "    N = input('')\n",
    "    try:\n",
    "        int(N)\n",
    "    except:\n",
    "        print('\\nΜη έγκυρη εισαγωγή.')\n",
    "        print('Εισάγετε θετικό ακέραιο:')\n",
    "        #N = input('')\n",
    "    else:\n",
    "        if int(N)<=0:\n",
    "            print('\\nΕισάγετε θ ε τ ι κ ό ακέραιο:')\n",
    "        else:\n",
    "            N=int(N)\n",
    "            break\n",
    "\n",
    "originalInput = N\n",
    "collatzList = []\n",
    "collatzStringList = []\n",
    "\n",
    "while True:\n",
    "    control = collatz(N)\n",
    "    collatzList.append(N)\n",
    "    collatzStringList.append(str(N))\n",
    "    if N==1:\n",
    "        break\n",
    "    N = collatz(N)\n",
    "\n",
    "sequenceLength = len(collatzList)\n",
    "\n",
    "clear_output()\n",
    "print('\\nΕπιλογή αριθμού προς πειραματισμό:')\n",
    "display(Math(latex(originalInput)))\n",
    "\n",
    "print('Πλήθος όρων ακολουθίας:')\n",
    "display(Math(latex(sequenceLength)))\n",
    "print('___________________________________\\n')\n",
    "print('Ακολουθία Collatz:\\n')\n",
    "\n",
    "for i in range(0,sequenceLength):\n",
    "    if i%10==0:\n",
    "        s=min(i+10,sequenceLength)\n",
    "        display(Math(\"\\\\longrightarrow \".join(collatzStringList[i:s])))"
   ]
  }
 ],
 "metadata": {
  "kernelspec": {
   "display_name": "Python 3 (ipykernel)",
   "language": "python",
   "name": "python3"
  },
  "language_info": {
   "codemirror_mode": {
    "name": "ipython",
    "version": 3
   },
   "file_extension": ".py",
   "mimetype": "text/x-python",
   "name": "python",
   "nbconvert_exporter": "python",
   "pygments_lexer": "ipython3",
   "version": "3.9.18"
  }
 },
 "nbformat": 4,
 "nbformat_minor": 5
}
