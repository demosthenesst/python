{
 "cells": [
  {
   "cell_type": "markdown",
   "id": "d80932fa",
   "metadata": {},
   "source": [
    "# Πρόσθεση θετικών - αρνητικών αριθμών"
   ]
  },
  {
   "cell_type": "code",
   "execution_count": 1,
   "id": "e5ae917c",
   "metadata": {
    "scrolled": true,
    "tags": [
     "hide-input"
    ]
   },
   "outputs": [
    {
     "name": "stdout",
     "output_type": "stream",
     "text": [
      "\u001b[0m________________________\n"
     ]
    },
    {
     "data": {
      "text/latex": [
       "$\\displaystyle \\bullet\\quad 15+(-15)=\\cdots$"
      ],
      "text/plain": [
       "<IPython.core.display.Math object>"
      ]
     },
     "metadata": {},
     "output_type": "display_data"
    },
    {
     "name": "stdout",
     "output_type": "stream",
     "text": [
      "Απάντηση:0\n",
      "\u001b[1;92mΣωστά!\n",
      "\u001b[0m________________________\n"
     ]
    },
    {
     "data": {
      "text/latex": [
       "$\\displaystyle \\bullet\\quad (-9)+(-11)=\\cdots$"
      ],
      "text/plain": [
       "<IPython.core.display.Math object>"
      ]
     },
     "metadata": {},
     "output_type": "display_data"
    },
    {
     "name": "stdout",
     "output_type": "stream",
     "text": [
      "Απάντηση:χ\n",
      "Έξοδος\n"
     ]
    }
   ],
   "source": [
    "from IPython.display import display, Math\n",
    "from IPython.display import clear_output\n",
    "import random\n",
    "from time import sleep\n",
    "\n",
    "def representsInteger(s):\n",
    "    try: \n",
    "        int(s)\n",
    "    except ValueError:\n",
    "        return False\n",
    "    else:\n",
    "        return True\n",
    "\n",
    "\n",
    "print('\\033[0m________________________')\n",
    "\n",
    "while True:\n",
    "    \n",
    "    #sleep(4)\n",
    "    #clear_output(wait=True)\n",
    "    \n",
    "    x = random.randint(-15, 15)\n",
    "    y = random.randint(-15, 15)\n",
    "\n",
    "    \n",
    "    \n",
    "    if x>0 and y>0:\n",
    "        x = -x\n",
    "        y = -y\n",
    "    \n",
    "    if x<0 and y<0:\n",
    "        display(Math('\\\\bullet\\\\quad (%g)+(%g)=\\\\cdots' %(x,y)))\n",
    "    if x>0 and y<0:\n",
    "        display(Math('\\\\bullet\\\\quad %g+(%g)=\\\\cdots' %(x,y)))\n",
    "    if x<0 and y>0:\n",
    "        display(Math('\\\\bullet\\\\quad (%g)+%g=\\\\cdots' %(x,y))) \n",
    "\n",
    "    z = input('\\033[1mΑπάντηση:')\n",
    "    \n",
    "    if z in ['X','x', 'Χ', 'χ']:\n",
    "        print('Έξοδος')\n",
    "        break\n",
    "\n",
    "    \n",
    "        \n",
    "    while not representsInteger(z):\n",
    "        print('\\033[1mΗ απάντηση πρέπει να είναι ακέραιος αριθμός.\\n')\n",
    "        z = input('\\033[1mΑπάντηση:')\n",
    "    else:\n",
    "        z=int(z)\n",
    "    \n",
    "    #clear_output(wait=True)\n",
    "    \n",
    "    if z != x+y:\n",
    "        w=str(x+y)\n",
    "        print('\\033[1;91mΗ σωστή απάντηση είναι '+w+'. Ξαναπροσπάθησε!')\n",
    "    else:\n",
    "        print('\\033[1;92mΣωστά!')\n",
    "\n",
    "    print('\\033[0m________________________')"
   ]
  }
 ],
 "metadata": {
  "celltoolbar": "Edit Metadata",
  "kernelspec": {
   "display_name": "Python 3 (ipykernel)",
   "language": "python",
   "name": "python3"
  },
  "language_info": {
   "codemirror_mode": {
    "name": "ipython",
    "version": 3
   },
   "file_extension": ".py",
   "mimetype": "text/x-python",
   "name": "python",
   "nbconvert_exporter": "python",
   "pygments_lexer": "ipython3",
   "version": "3.11.5"
  }
 },
 "nbformat": 4,
 "nbformat_minor": 5
}
