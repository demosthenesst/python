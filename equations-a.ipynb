{
 "cells": [
  {
   "cell_type": "markdown",
   "id": "d80932fa",
   "metadata": {},
   "source": [
    "\n",
    "# Εξάσκηση στις εξισώσεις\n",
    "\n",
    "Στη δραστηριότητα αυτή εξασκούμαστε στην επίλυση των εξισώσεων απλού τύπου. Σχετικά με την επίλυση των εξισώσεων υπενθυμίζονται τα παρακάτω.\n",
    "\n",
    "#### Θεωρία επίλυσης εξισώσεων\n",
    "\n",
    "\n",
    "<div style=\"background-color: #e6eeff; padding: 0.5em 1em; border: 1px solid black;\">\n",
    "$$\\begin{align}\n",
    "x+\\alpha = \\beta \\quad&\\Longleftrightarrow\\quad x = \\beta-\\alpha\\\\[1ex]\n",
    "x-\\alpha = \\beta \\quad&\\Longleftrightarrow\\quad x = \\beta+\\alpha\\\\[1ex]\n",
    "\\alpha -x = \\beta \\quad&\\Longleftrightarrow\\quad x = \\alpha-\\beta\\\\[1ex]\n",
    "\\alpha\\cdot x = \\beta \\quad&\\Longleftrightarrow\\quad x = \\dfrac{\\beta}{\\alpha}\\\\[1ex]\n",
    "\\dfrac{x}{\\alpha} = \\beta \\quad&\\Longleftrightarrow\\quad x = \\beta\\cdot\\alpha\\\\[1ex]\n",
    "\\dfrac{\\alpha}{x} = \\beta \\quad&\\Longleftrightarrow\\quad x = \\dfrac{\\alpha}{\\beta}\n",
    "\\end{align}$$\n",
    "</div>\n",
    "\n",
    "#### Παραδείγματα επίλυσης εξισώσεων\n",
    "\n",
    "<div style=\"background-color: #e6eeff; padding: 0.5em 1em; border: 1px solid black;\">\n",
    "$$\\begin{align}\n",
    "x+5 = 7 \\quad&\\Longleftrightarrow\\quad x = 2\\\\[1ex]\n",
    "x-3 = 6 \\quad&\\Longleftrightarrow\\quad x = 9\\\\[1ex]\n",
    "7 -x = 2 \\quad&\\Longleftrightarrow\\quad x = 5\\\\[1ex]\n",
    "5\\cdot x = 30 \\quad&\\Longleftrightarrow\\quad x = 6\\\\[1ex]\n",
    "\\dfrac{x}{2} = 7 \\quad&\\Longleftrightarrow\\quad x = 14\\\\[1ex]\n",
    "\\dfrac{12}{x} = 4 \\quad&\\Longleftrightarrow\\quad x = 3\n",
    "\\end{align}$$\n",
    "</div>\n",
    "\n",
    "<hr>\n",
    "\n",
    "#### Σχετικά με την εφαρμογή\n",
    "\n",
    "Στην παρακάτω εφαρμογή, ζητείται η σωστή απάντηση σε κάθε εμφανιζόμενη εξίσωση και καταγράφονται οι επιδόσεις.\n",
    "\n",
    "- Αν η απάντηση είναι κλάσμα, π.χ. $\\frac{5}{7}$, εισάγουμε τη συμβολοσειρά \"5/7\".\n",
    "- Αν η απάντηση είναι κλάσμα, σωστή απάντηση θεωρείται το ισοδύναμο ανάγωγο κλάσμα.\n",
    "- Πληκτρολογώντας ανά πάσα στιγμή \"X\", η εφαρμογή τερματίζεται και παρουσιάζονται οι επιδόσεις."
   ]
  },
  {
   "cell_type": "code",
   "execution_count": null,
   "id": "f163f34b-043b-41ca-8839-dcb6ce31b1d9",
   "metadata": {
    "tags": [
     "hide_input"
    ]
   },
   "outputs": [
    {
     "name": "stdout",
     "output_type": "stream",
     "text": [
      "Επιτυχίες: 0 από 0.\n",
      "\n"
     ]
    },
    {
     "data": {
      "text/latex": [
       "$\\displaystyle 20 - x = 2$"
      ],
      "text/plain": [
       "Eq(20 - x, 2)"
      ]
     },
     "metadata": {},
     "output_type": "display_data"
    },
    {
     "name": "stdout",
     "output_type": "stream",
     "text": [
      "\n"
     ]
    },
    {
     "name": "stdin",
     "output_type": "stream",
     "text": [
      "Απάντηση:\n",
      " asddsasd\n"
     ]
    },
    {
     "name": "stdout",
     "output_type": "stream",
     "text": [
      "✖ Ξαναπροσπάθησε.\n"
     ]
    }
   ],
   "source": [
    "\n",
    "from IPython.display import display, Math, clear_output\n",
    "import random\n",
    "from sympy import *\n",
    "import time\n",
    "\n",
    "x = symbols('x')\n",
    "\n",
    "attempts = 0\n",
    "success = 0\n",
    "termination = False\n",
    "\n",
    "while True:\n",
    "    a = random.randint(2,20)\n",
    "    b = random.randint(2,20)\n",
    "    \n",
    "    M=max(a,b)\n",
    "    m=min(a,b)\n",
    "    n= min(10,b)\n",
    "    \n",
    "    eqList = [\n",
    "        Eq( x + m, M ),\n",
    "        Eq( x - a, b ),\n",
    "        Eq( M - x, m ),\n",
    "        Eq( a*x, b ),\n",
    "        Eq( x/a, n ),\n",
    "        Eq( a/x, b )\n",
    "    ]\n",
    "    \n",
    "    eq = random.choice(eqList)\n",
    "    solution = solve(eq,x)[0]\n",
    "    \n",
    "    print('Επιτυχίες: %g από %g.\\n' %(success, attempts))\n",
    "    display(eq)\n",
    "    print()\n",
    "    \n",
    "    inp = input('Απάντηση:\\n')\n",
    "\n",
    "    while True:\n",
    "        if inp in ['X', 'x', 'Χ', 'χ']:\n",
    "            termination = True\n",
    "            break\n",
    "        attempts = attempts+1\n",
    "        if inp ==str(solution):\n",
    "            print('\\u2714 Σωστά')\n",
    "            success = success + 1\n",
    "            time.sleep(1.5)\n",
    "            clear_output()\n",
    "            break\n",
    "        else:\n",
    "            print('\\u2716 Ξαναπροσπάθησε.')\n",
    "            inp = input('\\nΝέα απάντηση:\\n')\n",
    "    \n",
    "    if termination == True:\n",
    "        clear_output()\n",
    "        print('\\nΗ εφαρμογή τερματίστηκε.')\n",
    "        if attempts>0:\n",
    "            print('Επιτυχίες: %g από %g.' %(success, attempts))\n",
    "            print('Ποσοστό επιτυχίας: %g%%.' %( round((100*success)/attempts,2)) )\n",
    "        break"
   ]
  }
 ],
 "metadata": {
  "celltoolbar": "Edit Metadata",
  "kernelspec": {
   "display_name": "Python 3 (ipykernel)",
   "language": "python",
   "name": "python3"
  },
  "language_info": {
   "codemirror_mode": {
    "name": "ipython",
    "version": 3
   },
   "file_extension": ".py",
   "mimetype": "text/x-python",
   "name": "python",
   "nbconvert_exporter": "python",
   "pygments_lexer": "ipython3",
   "version": "3.9.18"
  }
 },
 "nbformat": 4,
 "nbformat_minor": 5
}
