{
 "cells": [
  {
   "cell_type": "markdown",
   "id": "d80932fa",
   "metadata": {},
   "source": [
    "# Πρόσθεση θετικών - αρνητικών αριθμών"
   ]
  },
  {
   "cell_type": "code",
   "execution_count": null,
   "id": "e5ae917c",
   "metadata": {
    "scrolled": true,
    "tags": [
     "hide-input"
    ]
   },
   "outputs": [],
   "source": [
    "from IPython.display import display, Math\n",
    "#from IPython.display import clear_output\n",
    "import random\n",
    "#from time import sleep\n",
    "from colorama import Fore, Back, Style\n",
    "\n",
    "def representsInteger(s):\n",
    "    try: \n",
    "        int(s)\n",
    "    except ValueError:\n",
    "        return False\n",
    "    else:\n",
    "        return True\n",
    "\n",
    "\n",
    "success = 0\n",
    "total = 0\n",
    "    \n",
    "print('________________________')\n",
    "\n",
    "while True:\n",
    "    total = total+1\n",
    "    \n",
    "    #sleep(4)\n",
    "    #clear_output(wait=True)\n",
    "    \n",
    "    x = random.randint(-15, 15)\n",
    "    y = random.randint(-15, 15)\n",
    "\n",
    "    \n",
    "    \n",
    "    if x>0 and y>0:\n",
    "        x = -x\n",
    "        y = -y\n",
    "    \n",
    "    if x<0 and y<0:\n",
    "        display(Math('\\\\bullet\\\\quad (%g)+(%g)=\\\\cdots' %(x,y)))\n",
    "    if x>0 and y<0:\n",
    "        display(Math('\\\\bullet\\\\quad %g+(%g)=\\\\cdots' %(x,y)))\n",
    "    if x<0 and y>0:\n",
    "        display(Math('\\\\bullet\\\\quad (%g)+%g=\\\\cdots' %(x,y))) \n",
    "\n",
    "    z = input('Απάντηση:')\n",
    "    \n",
    "    if z in ['X','x', 'Χ', 'χ']:\n",
    "        print('Έξοδος')\n",
    "        break\n",
    "\n",
    "    while not representsInteger(z):\n",
    "        print('Η απάντηση πρέπει να είναι ακέραιος αριθμός.\\n')\n",
    "        z = input('Απάντηση:')\n",
    "    else:\n",
    "        z=int(z)\n",
    "    \n",
    "    #clear_output(wait=True)\n",
    "    \n",
    "    if z != x+y:\n",
    "        w=str(x+y)\n",
    "        print(Fore.RED+'Η σωστή απάντηση είναι '+w+'. Ξαναπροσπάθησε!')\n",
    "    else:\n",
    "        success = success+1\n",
    "        print(Fore.GREEN+'Σωστά!')\n",
    "        \n",
    "    print (Fore.BLACK+'Επιτυχίες: '+str(success)+' από '+str(total)+'.\\nΠοσοστό επιτυχίας: '+str(round(100*(success/total), 2))+'%')\n",
    "    print('________________________')"
   ]
  }
 ],
 "metadata": {
  "kernelspec": {
   "display_name": "Python 3 (ipykernel)",
   "language": "python",
   "name": "python3"
  },
  "language_info": {
   "codemirror_mode": {
    "name": "ipython",
    "version": 3
   },
   "file_extension": ".py",
   "mimetype": "text/x-python",
   "name": "python",
   "nbconvert_exporter": "python",
   "pygments_lexer": "ipython3",
   "version": "3.10.11"
  }
 },
 "nbformat": 4,
 "nbformat_minor": 5
}
