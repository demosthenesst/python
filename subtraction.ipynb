{
 "cells": [
  {
   "cell_type": "markdown",
   "id": "d80932fa",
   "metadata": {},
   "source": [
    "\n",
    "# Αφαίρεση θετικών - αρνητικών αριθμών\n",
    "\n",
    "Εκτελώντας την παρακάτω εφαρμογή, μπορείτε να εξασκηθείτε στην αφαίρεση μεταξύ θετικών/αρνητικών αριθμών. Εμφανίζεται, κάθε φορά, μια αφαίρεση, όπως παραδείγματος οι\n",
    "$$(-3)-7=\\cdots,\\quad\\quad (-7)-(-6)=\\cdots,\\quad\\quad 4-(-12)=\\cdots, \\quad\\quad 9-15=\\cdots,$$\n",
    "και ζητείται η εισαγωγή της σωστής απάντησης. Παράλληλα καταγράφεται το πλήθος των επιτυχών προσπαθειών, των συνολικών προσπαθείων, καθώς και η εκατοστιαία επίδοση.\n",
    "\n",
    "Πληκτρολογώντας ανά πάσα στιγμή \"Χ\" στο πεδίο εισαγωγής, η εφαρμογή τερματίζεται."
   ]
  },
  {
   "cell_type": "code",
   "execution_count": 2,
   "id": "c5ff41a5-7907-4970-9321-4014ab4a2bea",
   "metadata": {
    "collapsed": true,
    "jupyter": {
     "outputs_hidden": true,
     "source_hidden": true
    }
   },
   "outputs": [
    {
     "name": "stdout",
     "output_type": "stream",
     "text": [
      "Η εφαρμογή τερματίστηκε.\n",
      "Επιτυχίες: 7 από 13.\n",
      "Ποσοστό επιτυχίας: 53.85%.\n"
     ]
    }
   ],
   "source": [
    "\n",
    "from IPython.display import display, Math, clear_output\n",
    "import random\n",
    "from time import sleep\n",
    "\n",
    "success = 0\n",
    "total = 0\n",
    "termination = False\n",
    "\n",
    "print()\n",
    "\n",
    "while True:\n",
    "    x = random.randint(-15, 15)\n",
    "    y = random.randint(-15, 15)\n",
    "\n",
    "    if x==0 or y==0:\n",
    "        x = random.randint(-15, 15)\n",
    "        y = random.randint(-15, 15)\n",
    "\n",
    "    # if x>0 and y>0:\n",
    "    #     x = -x\n",
    "    #     y = -y\n",
    "\n",
    "    print('Επιτυχίες: %g από %g.\\n' %(success, total))\n",
    "\n",
    "\n",
    "    if x>0 and y>0:\n",
    "        display(Math('%g-%g=\\\\cdots' %(x,y)))\n",
    "    if x<0 and y<0:\n",
    "        display(Math('(%g)-(%g)=\\\\cdots' %(x,y)))\n",
    "    if x>0 and y<0:\n",
    "        display(Math('%g-(%g)=\\\\cdots' %(x,y)))\n",
    "    if x<0 and y>0:\n",
    "        display(Math('(%g)-%g=\\\\cdots' %(x,y)))\n",
    "\n",
    "    z = input('\\nΑπάντηση:\\n')\n",
    "\n",
    "    while True:\n",
    "        if z in ['X','x', 'Χ', 'χ']:\n",
    "            termination = True\n",
    "            break\n",
    "        total = total+1\n",
    "        if z==str(x-y):\n",
    "            success = success+1\n",
    "            print('\\u2714 Σωστά!')\n",
    "            sleep(2)\n",
    "            clear_output()\n",
    "            break\n",
    "        else:\n",
    "            print('\\u2716 Ξαναπροσπάθησε.')\n",
    "            z = input('\\nΝέα απάντηση:\\n')\n",
    "\n",
    "    if termination == True:\n",
    "        clear_output()\n",
    "        print('Η εφαρμογή τερματίστηκε.')\n",
    "        if total>0:\n",
    "            print('Επιτυχίες: %g από %g.' %(success, total))\n",
    "            print('Ποσοστό επιτυχίας: %g%%.' %( round((100*success)/total,2)) )\n",
    "        break"
   ]
  }
 ],
 "metadata": {
  "kernelspec": {
   "display_name": "Python 3 (ipykernel)",
   "language": "python",
   "name": "python3"
  },
  "language_info": {
   "codemirror_mode": {
    "name": "ipython",
    "version": 3
   },
   "file_extension": ".py",
   "mimetype": "text/x-python",
   "name": "python",
   "nbconvert_exporter": "python",
   "pygments_lexer": "ipython3",
   "version": "3.11.5"
  }
 },
 "nbformat": 4,
 "nbformat_minor": 5
}
