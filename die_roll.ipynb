{
 "cells": [
  {
   "cell_type": "markdown",
   "id": "9f96b844",
   "metadata": {},
   "source": [
    "# Πείραμα τύχης: ρίψη ζαριού\n",
    "\n",
    "Στην εφαρμογή αυτή προσομοιώνεται η ρίψη ενός ζαριού διαδοχικά, με πλήθος ρίψεων που καθορίζεται από τον χρήστη.\n",
    "\n",
    "- Καταγράφονται τα αποτελέσματα εμφάνισης της ένδειξης κάθε έδρας του ζαριού και υπολογίζεται η αντίστοιχη στατιστική πιθανότητα. Σκοπός της προσομοίωσης είναι η παρατήρηση της σύγκλισης της στατιστικής πιθανότητας στη θεωρητική τιμή $\\dfrac{1}{6}\\approx16,666\\%$.\n",
    "- Ο χρήστης έχει τη δυνατότητα να επιλέξει την εμφάνιση όλων των αποτελεσμάτων των ρίψεων."
   ]
  },
  {
   "cell_type": "code",
   "execution_count": null,
   "id": "7db360d0",
   "metadata": {
    "jupyter": {
     "source_hidden": true
    }
   },
   "outputs": [],
   "source": [
    "\n",
    "from IPython.display import display, Math, clear_output\n",
    "import random\n",
    "\n",
    "def representsInteger(s):\n",
    "    try: \n",
    "        int(s)\n",
    "    except ValueError:\n",
    "        return False\n",
    "    else:\n",
    "        return True\n",
    "\n",
    "########################################################\n",
    "\n",
    "print()\n",
    "numberOfRolls = input('Εισάγετε πλήθος ρίψεων:\\n')\n",
    "\n",
    "while not representsInteger(numberOfRolls) or int(numberOfRolls) <= 0:\n",
    "    clear_output()\n",
    "    print('Η απάντηση πρέπει να είναι θετικός ακέραιος αριθμός.\\n')\n",
    "    numberOfRolls = input('Εισάγετε πλήθος ρίψεων:\\n')\n",
    "else:\n",
    "    numberOfRolls=int(numberOfRolls)\n",
    "\n",
    "singleRollList = [random.randint(1,6) for i in range(0,numberOfRolls)]\n",
    "rollCountList = [singleRollList.count(x) for x in range(1,7)]\n",
    "\n",
    "\n",
    "\n",
    "clear_output()\n",
    "print('\\nΠλήθος ρίψεων: %s' %(str(numberOfRolls)))\n",
    "print()\n",
    "for idx, res in enumerate(rollCountList):\n",
    "    print(\n",
    "        'Συχνότητα εμφάνισης ένδειξης %g: %s\\t\\tΠιθανότητα εμφάνισης: %s/%s=%g%%' \n",
    "          %(idx+1, str(res), str(res), str(numberOfRolls), round(100*(res/numberOfRolls),3))        \n",
    "    )\n",
    "\n",
    "displayResults = input(\"\\nΕπιθυμείτε εμφάνιση αποτελεσμάτων των μεμονωμένων ρίψεων; (Ν/Ο)\\n\")\n",
    "\n",
    "if displayResults in ['Ν', 'ν', 'N', 'n']:\n",
    "    print('\\nΑποτελέσματα ρίψεων:\\n')\n",
    "    print(*singleRollList, sep = ' ')"
   ]
  }
 ],
 "metadata": {
  "kernelspec": {
   "display_name": "Python 3 (ipykernel)",
   "language": "python",
   "name": "python3"
  },
  "language_info": {
   "codemirror_mode": {
    "name": "ipython",
    "version": 3
   },
   "file_extension": ".py",
   "mimetype": "text/x-python",
   "name": "python",
   "nbconvert_exporter": "python",
   "pygments_lexer": "ipython3",
   "version": "3.9.18"
  }
 },
 "nbformat": 4,
 "nbformat_minor": 5
}
