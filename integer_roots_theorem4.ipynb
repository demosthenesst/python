{
 "cells": [
  {
   "cell_type": "markdown",
   "id": "1fab538b-f222-4fc3-a85d-5d66b8333461",
   "metadata": {},
   "source": [
    "# Θεώρημα ακεραίων ριζών πολυωνύμου\n"
   ]
  },
  {
   "cell_type": "code",
   "execution_count": null,
   "id": "0d42aaf2-4511-45df-ad02-11b08b48c9ca",
   "metadata": {
    "jupyter": {
     "source_hidden": true
    },
    "scrolled": true
   },
   "outputs": [],
   "source": [
    "\n",
    "from IPython.display import display, Math, clear_output\n",
    "from sympy import *\n",
    "from sympy.abc import x\n",
    "import random\n",
    "\n",
    "numOfintRoots = random.randint(2,3) \n",
    "\n",
    "numOfFractionalRoots = random.randint(0,1) #same as fractional root part degree .\n",
    "\n",
    "numOfnoRoots = 1-numOfFractionalRoots # number of irreducibles \n",
    "\n",
    "\n",
    "integerRootPols = [x-r for r in range(-7,7)]\n",
    "fractionalRootPols = [2*x-1, 2*x-3, 2*x-5,\n",
    "                           3*x-1, 3*x-2, 3*x-4, 3*x-5,\n",
    "                           4*x-1, 4*x-3, 4*x-5,\n",
    "                           5*x-1, 5*x-2, 5*x-3, 5*x-4,\n",
    "                           2*x+1, 2*x+3, 2*x+5,\n",
    "                           3*x+1, 3*x+2, 3*x+4, 3*x+5,\n",
    "                           4*x+1, 4*x+3, 4*x+5,\n",
    "                           5*x+1, 5*x+2, 5*x+3, 5*x+4\n",
    "                          ]\n",
    "noRootPols = [x**2+1, x**2+2, x**2+3, x**2+x+1, x**2 -x+1]\n",
    "\n",
    "fracPols = random.choices(fractionalRootPols, k=numOfFractionalRoots)\n",
    "irrPols = random.choices(noRootPols, k=numOfnoRoots)\n",
    "intPols = random.choices(integerRootPols, k=numOfintRoots)\n",
    "\n",
    "polList = fracPols + irrPols + intPols\n",
    "\n",
    "pol=expand(prod([p for p in polList]))\n",
    "\n",
    "#display(pol)\n",
    "#display( expand(pol) )\n",
    "\n",
    "#display(polList)\n",
    "\n",
    "#display( Math('P(x)=%s' %latex(pol) ) )\n",
    "\n",
    "#display(len(solveset(pol,x)))\n",
    "#display(solveset(pol,x, domain=S.Reals))\n",
    "\n",
    "while len(solveset(pol,x, domain=S.Reals))>0:\n",
    "    display( Math('P(x)=%s' %latex(pol) ) )\n",
    "    print('\\nΕισαγωγή ρίζας:')\n",
    "    rinput=input('')\n",
    "    rinput = sympify(rinput)\n",
    "    if rinput in solveset(pol,x, domain=S.Reals):\n",
    "        print('Σωστά')\n",
    "        pol = simplify(pol/(x-rinput))\n",
    "        #display( Math('P(x)=\\\\left(%s\\\\right)\\\\cdot\\\\left(%s\\\\right)' %( latex(pol), latex(x-rinput) ) ) )\n",
    "    else:\n",
    "        print('Ξαναπροσπάθησε:')\n",
    "\n"
   ]
  }
 ],
 "metadata": {
  "kernelspec": {
   "display_name": "Python 3 (ipykernel)",
   "language": "python",
   "name": "python3"
  },
  "language_info": {
   "codemirror_mode": {
    "name": "ipython",
    "version": 3
   },
   "file_extension": ".py",
   "mimetype": "text/x-python",
   "name": "python",
   "nbconvert_exporter": "python",
   "pygments_lexer": "ipython3",
   "version": "3.11.5"
  }
 },
 "nbformat": 4,
 "nbformat_minor": 5
}
