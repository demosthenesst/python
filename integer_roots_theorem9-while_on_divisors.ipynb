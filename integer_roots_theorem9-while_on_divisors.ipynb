{
 "cells": [
  {
   "cell_type": "markdown",
   "id": "1fab538b-f222-4fc3-a85d-5d66b8333461",
   "metadata": {},
   "source": [
    "# Θεώρημα ακεραίων ριζών πολυωνύμου\n"
   ]
  },
  {
   "cell_type": "code",
   "execution_count": null,
   "id": "6a3884ae-e880-4fe5-80dc-5b566399f963",
   "metadata": {
    "jp-MarkdownHeadingCollapsed": true
   },
   "outputs": [
    {
     "data": {
      "text/latex": [
       "$\\displaystyle \\left(x - 6\\right) \\left(x - 5\\right) \\left(x + 1\\right) \\left(x + 2\\right) \\left(2 x + 3\\right)$"
      ],
      "text/plain": [
       "(x - 6)*(x - 5)*(x + 1)*(x + 2)*(2*x + 3)"
      ]
     },
     "metadata": {},
     "output_type": "display_data"
    },
    {
     "data": {
      "text/latex": [
       "$\\displaystyle \\left(x - 5\\right) \\left(x - 4\\right) \\left(x + 2\\right) \\left(x + 3\\right) \\left(2 x + 5\\right)$"
      ],
      "text/plain": [
       "(x - 5)*(x - 4)*(x + 2)*(x + 3)*(2*x + 5)"
      ]
     },
     "metadata": {},
     "output_type": "display_data"
    },
    {
     "data": {
      "text/latex": [
       "$\\displaystyle \\left(x - 4\\right) \\left(x - 3\\right) \\left(x + 3\\right) \\left(x + 4\\right) \\left(2 x + 7\\right)$"
      ],
      "text/plain": [
       "(x - 4)*(x - 3)*(x + 3)*(x + 4)*(2*x + 7)"
      ]
     },
     "metadata": {},
     "output_type": "display_data"
    },
    {
     "data": {
      "text/latex": [
       "$\\displaystyle \\left(x - 3\\right) \\left(x - 2\\right) \\left(x + 4\\right) \\left(x + 5\\right) \\left(2 x + 9\\right)$"
      ],
      "text/plain": [
       "(x - 3)*(x - 2)*(x + 4)*(x + 5)*(2*x + 9)"
      ]
     },
     "metadata": {},
     "output_type": "display_data"
    },
    {
     "data": {
      "text/latex": [
       "$\\displaystyle \\left(x - 2\\right) \\left(x - 1\\right) \\left(x + 5\\right) \\left(x + 6\\right) \\left(2 x + 11\\right)$"
      ],
      "text/plain": [
       "(x - 2)*(x - 1)*(x + 5)*(x + 6)*(2*x + 11)"
      ]
     },
     "metadata": {},
     "output_type": "display_data"
    },
    {
     "data": {
      "text/latex": [
       "$\\displaystyle P(x)=2 x^{5} + 37 x^{4} + 214 x^{3} + 293 x^{2} - 546 x$"
      ],
      "text/plain": [
       "<IPython.core.display.Math object>"
      ]
     },
     "metadata": {},
     "output_type": "display_data"
    },
    {
     "name": "stdout",
     "output_type": "stream",
     "text": [
      "Πιθανές ακέραιες ρίζες:\n"
     ]
    },
    {
     "data": {
      "text/latex": [
       "$\\displaystyle \\emptyset$"
      ],
      "text/plain": [
       "EmptySet"
      ]
     },
     "metadata": {},
     "output_type": "display_data"
    },
    {
     "name": "stdout",
     "output_type": "stream",
     "text": [
      "Εισαγωγή ρίζας:\n"
     ]
    }
   ],
   "source": [
    "\n",
    "from IPython.display import display, Math, clear_output\n",
    "from sympy import *\n",
    "from sympy.abc import x\n",
    "import random\n",
    "import numpy\n",
    "\n",
    "\n",
    "############ functions ###################\n",
    "\n",
    "def horner (coeffs, val):\n",
    "    list1 = [coeffs[0]]\n",
    "    list2 = [None]\n",
    "    p = coeffs[0]\n",
    "    q = 0\n",
    "    i = 1\n",
    "    while i<len(coeffs):\n",
    "        q = p * val\n",
    "        p = q + coeffs[i]\n",
    "        list1.append(p)\n",
    "        list2.append(q)\n",
    "        i=i+1\n",
    "    return [list1, list2]\n",
    "\n",
    "def hornerArray (coeffs, val):\n",
    "    LENGTH=len(coeffs)+1\n",
    "    arr = numpy.empty((3,LENGTH), dtype=object)\n",
    "    arr[0]=coeffs+[val]\n",
    "    arr[1]=horner(coeffs,val)[1]+[None]\n",
    "    arr[2]=horner(coeffs,val)[0]+[None]\n",
    "    ltx = latex(sympify(arr))\n",
    "    newltx = matToArr(ltx, LENGTH)\n",
    "    display(Math(newltx))\n",
    "\n",
    "def matToArr (st, col): ### latex replacements matrix to array\n",
    "    c=(col-1)*'r'+'|l'\n",
    "    st=st.replace('\\\\text{None}', '\\\\quad')\n",
    "    st=st.replace('\\\\left[\\\\begin{matrix}', '\\\\begin{array}{'+c+'}').replace('\\\\end{matrix}\\\\right]', '\\\\end{array}')\n",
    "    st = '\\\\\\\\ \\hline '.join(st.rsplit('\\\\\\\\', 1))  #replaces last occurence\n",
    "    st = ''.join(st.rsplit('\\\\quad\\\\quad\\\\quad', 2))\n",
    "    return st\n",
    "\n",
    "def fullDivisors(c):\n",
    "    posD = divisors(c)\n",
    "    negD = [-x for x in reversed(posD)]\n",
    "    D = negD + posD\n",
    "    return FiniteSet(*D)\n",
    "\n",
    "########### !functions ####################\n",
    "\n",
    "\n",
    "integerRoots = [-6,-5,-4,-3,-2,-1,1,2,3,4,5,6]\n",
    "\n",
    "fractionalRoots = [\n",
    "(2, -1), (2, -3), (2, -5), \n",
    "(2, 1), (2, 3), (2, 5), \n",
    "(3, -1), (3, -2), (3, -4), (3, -5), \n",
    "(3, 1), (3, 2), (3, 4), (3, 5), \n",
    "(4, -1), (4, -3), (4, -5), \n",
    "(4, 1), (4, 3), (4, 5), \n",
    "(5, -1), (5, -2), (5, -3), (5, -4), \n",
    "(5, 1), (5, 2), (5, 3), (5, 4)\n",
    "]\n",
    "\n",
    "\n",
    "#integerRootPols1 = [x-r for r in range(-6,0)]\n",
    "#integerRootPols2 = [x-r for r in range(1,7)]\n",
    "#integerRootPols = integerRootPols1 + integerRootPols2\n",
    "# fractionalRootPols = [2*x-1, 2*x-3, 2*x-5,\n",
    "#                            3*x-1, 3*x-2, 3*x-4, 3*x-5,\n",
    "#                            4*x-1, 4*x-3, 4*x-5,\n",
    "#                            5*x-1, 5*x-2, 5*x-3, 5*x-4,\n",
    "#                            2*x+1, 2*x+3, 2*x+5,\n",
    "#                            3*x+1, 3*x+2, 3*x+4, 3*x+5,\n",
    "#                            4*x+1, 4*x+3, 4*x+5,\n",
    "#                            5*x+1, 5*x+2, 5*x+3, 5*x+4\n",
    "#                    ]\n",
    "\n",
    "\n",
    "numOfintRoots = random.randint(3,4) \n",
    "numOfFractionalRoots = random.randint(0,1)\n",
    "chosenIntRoots = random.choices(integerRoots, k = numOfintRoots)\n",
    "chosenFractionalRoots = random.choices(fractionalRoots, k = numOfFractionalRoots)\n",
    "\n",
    "fracPols = [r[0]*x-r[1] for r in chosenFractionalRoots]\n",
    "intPols = [x-r for r in chosenIntRoots]\n",
    "polList = fracPols + intPols\n",
    "\n",
    "factoredPol = prod([p for p in polList])\n",
    "constTerm = factoredPol.subs(x,0)\n",
    "\n",
    "while divisor_count(constTerm)>4:\n",
    "    display(factoredPol)\n",
    "    if chosenIntRoots.count(1)>0:\n",
    "        N = chosenIntRoots.count(1)\n",
    "        factoredPol = simplify(factorPol/((x-1)**N))\n",
    "    \n",
    "    factoredPol = factoredPol.subs(x,x+1)\n",
    "    constTerm = factoredPol.subs(x,0)\n",
    "\n",
    "\n",
    "# while abs(constTerm)>40:\n",
    "#     maxintroot = max(chosenIntRoots)\n",
    "#     minintroot = min(chosenIntRoots)\n",
    "#     if maxintroot>1:\n",
    "#         factoredPol = (x-1)*simplify(factoredPol/(x-maxintroot))\n",
    "#         chosenIntRoots.remove(maxintroot)\n",
    "#     elif minintroot <-1:\n",
    "#         factoredPol = (x+1)*simplify(factoredPol/(x-minintroot))\n",
    "#         chosenIntRoots.remove(minintroot)\n",
    "#     else:\n",
    "#         factoredPol= simplify(factoredPol/fracPols[0])\n",
    "#     constTerm = factoredPol.subs(x,0)\n",
    "\n",
    "pol = expand(factoredPol)\n",
    "polRootsSet = solveset(factoredPol,x, domain=S.Reals)\n",
    "POLSTRING = latex(pol)\n",
    "FPOLSTRING = latex(factoredPol)\n",
    "\n",
    "discardedRoots = []\n",
    "\n",
    "while len(solveset(pol,x, domain=S.Reals))>0:\n",
    "    allcoeffs = Poly(pol, x).all_coeffs()\n",
    "    cterm = allcoeffs[-1]\n",
    "    divs = Complement(fullDivisors(cterm), FiniteSet(*discardedRoots))\n",
    "    display( Math('P(x)=%s' %latex(pol) ) )\n",
    "    print('Πιθανές ακέραιες ρίζες:')\n",
    "    display(divs)\n",
    "    print('Εισαγωγή ρίζας:')\n",
    "    rinput = input('')\n",
    "    while rinput.replace(\" \",\"\").replace(\"/\",\"\").replace(\"-\",\"\").isdigit() == False and rinput not in ['X','x', 'Χ', 'χ']:\n",
    "        #clear_output()\n",
    "        print('Μη έγκυρη εισαγωγή. Δοκίμασε ξανά.')\n",
    "        rinput = input('')\n",
    "    if rinput in ['X','x', 'Χ', 'χ']:\n",
    "        break    \n",
    "    rinput = sympify(rinput)\n",
    "    clear_output()\n",
    "    print('\\nΣχήμα Horner:')\n",
    "    hornerArray(allcoeffs,rinput)\n",
    "    if rinput in solveset(pol,x, domain=S.Reals):\n",
    "        print('\\nΣωστά!')\n",
    "        pol = simplify(pol/(x-rinput))\n",
    "    else:\n",
    "        print('\\nΞαναπροσπάθησε.')\n",
    "        discardedRoots.append(rinput)\n",
    "\n",
    "clear_output()\n",
    "print('\\nΗ παραγοντοποίηση του αρχικού πολυωνύμου είναι:')\n",
    "display( Math('%s=%s' %(POLSTRING, FPOLSTRING )  ) )\n",
    "print('\\nΤο σύνολο των ριζών του αρχικού πολυωνύμου είναι:')\n",
    "display(polRootsSet)"
   ]
  },
  {
   "cell_type": "code",
   "execution_count": null,
   "id": "3f1eb313-eda1-4eb4-85be-c349140dded9",
   "metadata": {},
   "outputs": [],
   "source": []
  },
  {
   "cell_type": "code",
   "execution_count": 111,
   "id": "a373d95b-3f34-4aa9-b061-5a86449d66ea",
   "metadata": {},
   "outputs": [
    {
     "data": {
      "text/latex": [
       "$\\displaystyle \\emptyset$"
      ],
      "text/plain": [
       "EmptySet"
      ]
     },
     "execution_count": 111,
     "metadata": {},
     "output_type": "execute_result"
    }
   ],
   "source": [
    "\n",
    "\n",
    "from IPython.display import display, Math, clear_output\n",
    "from sympy import *\n",
    "from sympy.abc import x\n",
    "import random\n",
    "import numpy\n",
    "\n",
    "#pl = (x-1)*(x-2)*(x-30)*(x+4)*(x-5)*(4*x+3)*(x-2)\n",
    "\n",
    "\n",
    "# L = list(solveset(pl, x , domain=S.Reals))\n",
    "# display(L)\n",
    "\n",
    "# display(sympify(numpy.array(solveset(pl, x , domain=S.Reals))))\n",
    "\n",
    "# LL = [1,2,3]\n",
    "# set(LL)\n",
    "\n",
    "def fullDivisors(c):\n",
    "    posD = divisors(c)\n",
    "    negD = [-x for x in reversed(posD)]\n",
    "    return sympify(set(negD + posD))\n",
    "\n",
    "\n",
    "fullDivisors(24)\n",
    "FiniteSet(*[1,2,3])\n",
    "#FiniteSet(1,2,3).union(4)\n",
    "\n",
    "\n",
    "SS= FiniteSet(0, 1, 2)\n",
    "\n",
    "Union(SS, FiniteSet(7))\n",
    "FiniteSet(*[])"
   ]
  },
  {
   "cell_type": "code",
   "execution_count": 39,
   "id": "873eb3da-9608-4597-9a8a-d642e276ec3e",
   "metadata": {},
   "outputs": [
    {
     "data": {
      "text/plain": [
       "2"
      ]
     },
     "execution_count": 39,
     "metadata": {},
     "output_type": "execute_result"
    }
   ],
   "source": [
    "                           #  2*x-1, 2*x-3, 2*x-5,\n",
    "                           # 3*x-1, 3*x-2, 3*x-4, 3*x-5,\n",
    "                           # 4*x-1, 4*x-3, 4*x-5,\n",
    "                           # 5*x-1, 5*x-2, 5*x-3, 5*x-4,\n",
    "                           # 2*x+1, 2*x+3, 2*x+5,\n",
    "                           # 3*x+1, 3*x+2, 3*x+4, 3*x+5,\n",
    "                           # 4*x+1, 4*x+3, 4*x+5,\n",
    "                           # 5*x+1, 5*x+2, 5*x+3, 5*x+4\n",
    "A=[1,2,3]\n",
    "A.append(4)\n",
    "A\n",
    "max([1,2])"
   ]
  },
  {
   "cell_type": "code",
   "execution_count": 91,
   "id": "c9832e7d-16f7-4755-a30e-003a4ae4125a",
   "metadata": {},
   "outputs": [
    {
     "name": "stdout",
     "output_type": "stream",
     "text": [
      "34\n"
     ]
    },
    {
     "data": {
      "text/plain": [
       "True"
      ]
     },
     "execution_count": 91,
     "metadata": {},
     "output_type": "execute_result"
    }
   ],
   "source": [
    "s='   -3/4  '\n",
    "#t=s.replace(\" \",\"\").replace(\"/\",\"\").replace(\"-\",\"\")\n",
    "print(t)\n",
    "s.replace(\" \",\"\").replace(\"/\",\"\").replace(\"-\",\"\").isdigit()"
   ]
  },
  {
   "cell_type": "code",
   "execution_count": 22,
   "id": "bd2ec32c-8951-4541-a8cf-259f8f4b4764",
   "metadata": {},
   "outputs": [
    {
     "data": {
      "text/plain": [
       "0"
      ]
     },
     "execution_count": 22,
     "metadata": {},
     "output_type": "execute_result"
    }
   ],
   "source": [
    "L=[1,2,3,4,5,5,5,5,6, 7,7]\n",
    "L.count(8)"
   ]
  }
 ],
 "metadata": {
  "kernelspec": {
   "display_name": "Python 3 (ipykernel)",
   "language": "python",
   "name": "python3"
  },
  "language_info": {
   "codemirror_mode": {
    "name": "ipython",
    "version": 3
   },
   "file_extension": ".py",
   "mimetype": "text/x-python",
   "name": "python",
   "nbconvert_exporter": "python",
   "pygments_lexer": "ipython3",
   "version": "3.9.18"
  }
 },
 "nbformat": 4,
 "nbformat_minor": 5
}
